{
 "cells": [
  {
   "cell_type": "markdown",
   "metadata": {},
   "source": [
    "# Gráficos básicos\n",
    "\n",
    "Información importante:\n",
    "* Documentación oficial de Altair: [altair-viz.github.io](https://altair-viz.github.io/index.html)\n",
    "* Repositorio en GitHub: [tacosdedatos/codigofacilito-dataviz-efectiva](https://github.com/tacosdedatos/codigofacilito-dataviz-efectiva)\n",
    "\n",
    "* La manera de codificar (encoding) datos en Altair\n",
    "* Objetos en Altair\n",
    "  - Ejes o _axes_\n",
    "  - Escalas o _scales_\n",
    "  - Marcas gráficas o _marks_\n",
    "* Configuraciones\n",
    "  - de elementos\n",
    "  - de gráficos"
   ]
  },
  {
   "cell_type": "code",
   "execution_count": null,
   "metadata": {},
   "outputs": [],
   "source": [
    "import altair as alt\n",
    "import pandas as pd \n",
    "from vega_datasets import data as vega_data\n",
    "data = vega_data.gapminder()"
   ]
  },
  {
   "cell_type": "markdown",
   "metadata": {},
   "source": [
    "## Barras"
   ]
  },
  {
   "cell_type": "code",
   "execution_count": null,
   "metadata": {},
   "outputs": [],
   "source": []
  },
  {
   "cell_type": "markdown",
   "metadata": {},
   "source": [
    "## Barras+"
   ]
  },
  {
   "cell_type": "markdown",
   "metadata": {},
   "source": []
  }
 ],
 "metadata": {
  "kernelspec": {
   "display_name": ".venv",
   "language": "python",
   "name": "python3"
  },
  "language_info": {
   "name": "python",
   "version": "3.12.6"
  },
  "orig_nbformat": 4
 },
 "nbformat": 4,
 "nbformat_minor": 2
}
